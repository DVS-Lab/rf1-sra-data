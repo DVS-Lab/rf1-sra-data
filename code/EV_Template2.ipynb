{
 "cells": [
  {
   "cell_type": "code",
   "execution_count": 29,
   "id": "0a21f969-ab1c-46b2-abcd-c8c3a6acfb35",
   "metadata": {},
   "outputs": [],
   "source": [
    "import pandas as pd\n",
    "import numpy as np\n",
    "import os\n",
    "import re"
   ]
  },
  {
   "cell_type": "code",
   "execution_count": 28,
   "id": "e6c7042b-dbd0-4e96-8276-c71c56b9a6ea",
   "metadata": {},
   "outputs": [
    {
     "name": "stdout",
     "output_type": "stream",
     "text": [
      "{'sub-10154', 'sub-10150', 'sub-10185', 'sub-10416', 'sub-10137'}\n"
     ]
    }
   ],
   "source": [
    "subdir = '../derivatives/fsl/EVFiles/'\n",
    "emptyEVsubs = []\n",
    "for sub in os.listdir(subdir):\n",
    "    EVdir = '../derivatives/fsl/EVFiles/%s/sharedreward' %(sub)\n",
    "    for run in os.listdir(EVdir):\n",
    "        EVdir = '../derivatives/fsl/EVFiles/%s/sharedreward' %(sub)\n",
    "        EVdir = EVdir + '/' + run\n",
    "        filenames = [file for file in ['_guess_leftButton_computer.txt','_guess_rightButton_computer.txt','_guess_leftButton_face.txt','_guess_rightButton_face.txt']]\n",
    "        if all(item in os.listdir(EVdir) for item in filenames):\n",
    "            lb_c = pd.read_csv(EVdir+'/_guess_leftButton_computer.txt', delim_whitespace = True, header=None)\n",
    "            rb_c = pd.read_csv(EVdir+'/_guess_rightButton_computer.txt', delim_whitespace = True, header=None)\n",
    "            lb_f = pd.read_csv(EVdir+'/_guess_leftButton_face.txt', delim_whitespace = True, header=None)\n",
    "            rb_f = pd.read_csv(EVdir+'/_guess_rightButton_face.txt', delim_whitespace = True, header=None)\n",
    "            \n",
    "            EVlength = [len(lb_c),len(rb_c), len(lb_f), len(rb_f)]\n",
    "            if min(EVlength) < 2:\n",
    "                emptyEVsubs.append(sub)\n",
    "            \n",
    "            total_rb = pd.concat([rb_c, rb_f])\n",
    "            total_lb = pd.concat([lb_c, lb_f])\n",
    "            total_c = pd.concat([lb_c, rb_c])\n",
    "            total_f = pd.concat([lb_f, rb_f])\n",
    "\n",
    "            total_rb.to_csv(EVdir + '/_guess_allRightButton.txt', header=None, index=None, sep='\\t')\n",
    "            total_lb.to_csv(EVdir + '/_guess_allLeftButton.txt', header=None, index=None, sep='\\t')\n",
    "            total_c.to_csv(EVdir + '/_guess_allComputer.txt', header=None, index=None, sep='\\t')\n",
    "            total_f.to_csv(EVdir + '/_guess_allFace.txt', header=None, index=None, sep='\\t')\n",
    "print(set(emptyEVsubs))"
   ]
  },
  {
   "cell_type": "code",
   "execution_count": 31,
   "id": "5abe8d8c-1d10-4a17-8d0d-9c03d7f96071",
   "metadata": {},
   "outputs": [
    {
     "name": "stdout",
     "output_type": "stream",
     "text": [
      "[]\n"
     ]
    }
   ],
   "source": [
    "subdir = '../derivatives/fsl/EVFiles/'\n",
    "emptyEVsubs = []\n",
    "for sub in os.listdir(subdir):\n",
    "    EVdir = '../derivatives/fsl/EVFiles/%s/sharedreward' %(sub)\n",
    "    for run in os.listdir(EVdir):\n",
    "        EVdir = '../derivatives/fsl/EVFiles/%s/sharedreward' %(sub)\n",
    "        EVdir = EVdir + '/' + run\n",
    "        filenames = [file for file in ['_outcome_computer_neutral.txt','_outcome_computer_reward.txt','_outcome_computer_punish.txt','_outcome_stranger_neutral.txt','_outcome_stranger_reward.txt','_outcome_stranger_punish.txt']]\n",
    "        if all(item in os.listdir(EVdir) for item in filenames):\n",
    "            c_n = pd.read_csv(EVdir+'/_outcome_computer_neutral.txt', delim_whitespace = True, header=None)\n",
    "            c_r = pd.read_csv(EVdir+'/_outcome_computer_reward.txt', delim_whitespace = True, header=None)\n",
    "            c_p = pd.read_csv(EVdir+'/_outcome_computer_punish.txt', delim_whitespace = True, header=None)\n",
    "            s_n = pd.read_csv(EVdir+'/_outcome_stranger_neutral.txt', delim_whitespace = True, header=None)\n",
    "            s_r = pd.read_csv(EVdir+'/_outcome_stranger_reward.txt', delim_whitespace = True, header=None)\n",
    "            s_p = pd.read_csv(EVdir+'/_outcome_stranger_punish.txt', delim_whitespace = True, header=None)\n",
    "            \n",
    "            EVlength = [len(c_n),len(c_r), len(c_p), len(s_n), len(s_r), len(s_p)]\n",
    "            if min(EVlength) < 2:\n",
    "                emptyEVsubs.append(sub)\n",
    "print(emptyEVsubs)"
   ]
  },
  {
   "cell_type": "code",
   "execution_count": null,
   "id": "8cbe637f-fa9e-46a9-a45a-91c246763f3f",
   "metadata": {},
   "outputs": [],
   "source": []
  }
 ],
 "metadata": {
  "kernelspec": {
   "display_name": "Python 3 (ipykernel)",
   "language": "python",
   "name": "python3"
  },
  "language_info": {
   "codemirror_mode": {
    "name": "ipython",
    "version": 3
   },
   "file_extension": ".py",
   "mimetype": "text/x-python",
   "name": "python",
   "nbconvert_exporter": "python",
   "pygments_lexer": "ipython3",
   "version": "3.9.13"
  }
 },
 "nbformat": 4,
 "nbformat_minor": 5
}

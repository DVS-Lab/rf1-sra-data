{
 "cells": [
  {
   "cell_type": "code",
   "execution_count": 6,
   "id": "8e5de1ae-8f66-44c2-8f90-495bac987c0d",
   "metadata": {},
   "outputs": [
    {
     "name": "stdout",
     "output_type": "stream",
     "text": [
      "We collected and downloaded data from 43 subjects\n"
     ]
    }
   ],
   "source": [
    "import os\n",
    "import re\n",
    "import pandas as pd\n",
    "import nilearn as nl\n",
    "import numpy as np\n",
    "import seaborn as sns\n",
    "from nilearn.input_data import NiftiMasker\n",
    "from nilearn.image.image import mean_img\n",
    "from nilearn import plotting, image\n",
    "from nilearn.plotting import view_img\n",
    "import warnings\n",
    "warnings.filterwarnings(\"ignore\")\n",
    "from nilearn.image import math_img\n",
    "import time\n",
    "import multiprocessing\n",
    "from tqdm import tqdm\n",
    "import json\n",
    "\n",
    "import matplotlib.pyplot as plt\n",
    "plt.rcParams['svg.fonttype'] = 'none'\n",
    "\n",
    "project_dir='/data/projects/rf1-mbme-pilot'\n",
    "subs=pd.read_csv('../derivatives/exclusions.csv')\n",
    "print(\"We collected and downloaded data from %s subjects\"%(len(subs['sub'].unique())))\n",
    "GoodSubs=subs.groupby(by='sub').sum()\n",
    "#print(GoodSubs.columns)\n",
    "GoodSubs=GoodSubs[\n",
    "    (GoodSubs['FD_exclusion']<=2)&(\n",
    "        GoodSubs['ABS_exclusion']<=1)&(\n",
    "        GoodSubs['Beh_TrialExclusion']<=2)].reset_index()\n",
    "subs=subs[subs['sub'].isin(GoodSubs['sub'].values)].sort_values(by='sub')\n",
    "subs.reset_index(inplace=True)"
   ]
  },
  {
   "cell_type": "code",
   "execution_count": 7,
   "id": "8bcf6660-3e3b-433f-9d74-0a4a2b52ebae",
   "metadata": {},
   "outputs": [
    {
     "data": {
      "text/plain": [
       "array(['sub-10017', 'sub-10024', 'sub-10035', 'sub-10043', 'sub-10054',\n",
       "       'sub-10059', 'sub-10069', 'sub-10074', 'sub-10078', 'sub-10080',\n",
       "       'sub-10108', 'sub-10125', 'sub-10136', 'sub-10137', 'sub-10142',\n",
       "       'sub-10150', 'sub-10154', 'sub-10185', 'sub-10186', 'sub-10188',\n",
       "       'sub-10198', 'sub-10203', 'sub-10223', 'sub-10303', 'sub-10318',\n",
       "       'sub-10319', 'sub-10320', 'sub-10321', 'sub-10363', 'sub-10391',\n",
       "       'sub-10416', 'sub-12042'], dtype=object)"
      ]
     },
     "execution_count": 7,
     "metadata": {},
     "output_type": "execute_result"
    }
   ],
   "source": [
    "subs['sub'].unique()"
   ]
  },
  {
   "cell_type": "code",
   "execution_count": 9,
   "id": "b81c23bd-045d-4c94-a593-8c6c07863345",
   "metadata": {},
   "outputs": [
    {
     "data": {
      "text/plain": [
       "array(['sub-10017', 'sub-10024', 'sub-10035', 'sub-10043', 'sub-10054',\n",
       "       'sub-10069', 'sub-10074', 'sub-10078', 'sub-10080', 'sub-10108',\n",
       "       'sub-10125', 'sub-10136', 'sub-10142', 'sub-10150', 'sub-10154',\n",
       "       'sub-10185', 'sub-10188', 'sub-10198', 'sub-10203', 'sub-10223',\n",
       "       'sub-10303', 'sub-10318', 'sub-10319', 'sub-10321', 'sub-10416'],\n",
       "      dtype=object)"
      ]
     },
     "execution_count": 9,
     "metadata": {},
     "output_type": "execute_result"
    }
   ],
   "source": [
    "act2=[]\n",
    "act3=[]\n",
    "for index,row in subs.iterrows():\n",
    "    sub=row['sub']\n",
    "    acq=row['acq']\n",
    "    act2.append(os.path.exists(\n",
    "        project_dir+'/derivatives/fsl/%s/L1_task-sharedreward_model-2_type-act_acq-%s_sm-4_denoising-none.feat/stats/zstat3.nii.gz'%(sub,acq)))\n",
    "    act3.append(os.path.exists(\n",
    "        project_dir+'/derivatives/fsl/%s/L1_task-sharedreward_model-3_type-act_acq-%s_sm-4_denoising-none.feat/stats/zstat3.nii.gz'%(sub,acq)))\n",
    "    \n",
    "subs['L1act2']=act2\n",
    "subs['L1act3']=act3\n",
    "#display(subs)\n",
    "subs[subs['L1act3']==False]['sub'].unique()"
   ]
  },
  {
   "cell_type": "code",
   "execution_count": null,
   "id": "22575677-3257-4964-b611-d45950907262",
   "metadata": {},
   "outputs": [],
   "source": []
  }
 ],
 "metadata": {
  "kernelspec": {
   "display_name": "Python 3 (ipykernel)",
   "language": "python",
   "name": "python3"
  },
  "language_info": {
   "codemirror_mode": {
    "name": "ipython",
    "version": 3
   },
   "file_extension": ".py",
   "mimetype": "text/x-python",
   "name": "python",
   "nbconvert_exporter": "python",
   "pygments_lexer": "ipython3",
   "version": "3.9.13"
  }
 },
 "nbformat": 4,
 "nbformat_minor": 5
}

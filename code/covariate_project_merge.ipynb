{
 "cells": [
  {
   "cell_type": "code",
   "execution_count": 3,
   "id": "8e70eaaa-8a58-48a2-afb7-c201d0c04875",
   "metadata": {},
   "outputs": [
    {
     "name": "stdout",
     "output_type": "stream",
     "text": [
      "Merged data saved to /Users/avidachs/Desktop/Code/Covariates/merged-data.csv\n"
     ]
    }
   ],
   "source": [
    "import pandas as pd\n",
    "import os\n",
    "\n",
    "# Get the current working directory\n",
    "current_directory = os.getcwd()\n",
    "\n",
    "# File paths for the CSV files\n",
    "rf1_file = os.path.join(current_directory, 'rf1-data.csv')\n",
    "island_file = os.path.join(current_directory, 'island-data.csv')\n",
    "\n",
    "# Read the data from the CSV files\n",
    "rf1_data = pd.read_csv(rf1_file)\n",
    "island_data = pd.read_csv(island_file)\n",
    "\n",
    "# Merge the tables based on the identifier in column 'tppid'\n",
    "merged_data = pd.merge(rf1_data, island_data, on='tppid', how='inner')\n",
    "\n",
    "# Remove duplicates based on 'tppid' column, keeping the first occurrence\n",
    "merged_data = merged_data.drop_duplicates(subset='tppid', keep='first')\n",
    "\n",
    "# Write the merged data to a new CSV file\n",
    "merged_file = os.path.join(current_directory, 'merged-data.csv')\n",
    "merged_data.to_csv(merged_file, index=False)\n",
    "\n",
    "print(f\"Merged data saved to {merged_file}\")\n"
   ]
  }
 ],
 "metadata": {
  "kernelspec": {
   "display_name": "Python 3",
   "language": "python",
   "name": "python3"
  },
  "language_info": {
   "codemirror_mode": {
    "name": "ipython",
    "version": 3
   },
   "file_extension": ".py",
   "mimetype": "text/x-python",
   "name": "python",
   "nbconvert_exporter": "python",
   "pygments_lexer": "ipython3",
   "version": "3.9.6"
  }
 },
 "nbformat": 4,
 "nbformat_minor": 5
}

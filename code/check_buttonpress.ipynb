{
 "cells": [
  {
   "cell_type": "code",
   "execution_count": 28,
   "metadata": {},
   "outputs": [],
   "source": [
    "import os\n",
    "import pandas as pd\n",
    "import re\n",
    "\n",
    "events = [os.path.join(route, f) for route, dirs, files in os.walk('../bids') for f in files if f.endswith('events.tsv')]"
   ]
  },
  {
   "cell_type": "code",
   "execution_count": 31,
   "metadata": {},
   "outputs": [],
   "source": [
    "df_list = []\n",
    "for f in events:\n",
    "    temp = pd.read_csv(f,sep='\\t')\n",
    "    sub = re.search('sub-(.*)/func', f).group(1)\n",
    "    acq = re.search('acq-(.*)_events', f).group(1)\n",
    "    temp['sub'] = sub\n",
    "    temp['acq'] = acq\n",
    "    df_list.append(temp)\n",
    "df = pd.concat(df_list)\n",
    "df = df[['sub','acq','duration','trial_type','response_time']]\n",
    "df = df[df['trial_type'].str.contains('outcome') == False]\n",
    "df[['phase','button','partner']] = df['trial_type'].str.split('_',2, expand = True)\n",
    "df['button'] = df['button'].map({'rightButton':-1, 'leftButton':1})\n",
    "df = df.groupby(by = ['sub','acq','partner']).mean()\n",
    "df.to_csv('../derivatives/mean_buttonpress.csv')"
   ]
  }
 ],
 "metadata": {
  "kernelspec": {
   "display_name": "Python 3",
   "language": "python",
   "name": "python3"
  },
  "language_info": {
   "codemirror_mode": {
    "name": "ipython",
    "version": 3
   },
   "file_extension": ".py",
   "mimetype": "text/x-python",
   "name": "python",
   "nbconvert_exporter": "python",
   "pygments_lexer": "ipython3",
   "version": "3.8.5"
  }
 },
 "nbformat": 4,
 "nbformat_minor": 4
}
